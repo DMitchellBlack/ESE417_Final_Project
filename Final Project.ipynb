{
 "cells": [
  {
   "cell_type": "code",
   "execution_count": 58,
   "id": "6454d259",
   "metadata": {},
   "outputs": [],
   "source": [
    "import matplotlib.pyplot as plt\n",
    "import numpy as np\n",
    "import pandas as pd\n",
    "from sklearn.model_selection import train_test_split\n",
    "from sklearn.ensemble import RandomForestClassifier\n",
    "from sklearn.preprocessing import LabelEncoder\n",
    "from sklearn.model_selection import GridSearchCV\n",
    "from sklearn import svm\n",
    "\n",
    "DEBUG=False\n",
    "TS=0.3  # Testing size\n",
    "RS=420  # Random State"
   ]
  },
  {
   "cell_type": "code",
   "execution_count": 59,
   "id": "88e6bd0e",
   "metadata": {},
   "outputs": [],
   "source": [
    "# Read the data\n",
    "data = pd.read_csv(\"winequality-red.csv\", sep=\";\")\n",
    "if DEBUG:\n",
    "    print(data.head())\n",
    "    print(data.describe())"
   ]
  },
  {
   "cell_type": "code",
   "execution_count": 60,
   "id": "d50d8e5e",
   "metadata": {},
   "outputs": [],
   "source": [
    "# Split the data\n",
    "np_data = data.to_numpy()\n",
    "X = np_data[:,:11]\n",
    "y = np_data[:,11]"
   ]
  },
  {
   "cell_type": "code",
   "execution_count": 61,
   "id": "303f3781",
   "metadata": {},
   "outputs": [],
   "source": [
    "if DEBUG:\n",
    "    print(f\"X shape: {X.shape}\")\n",
    "    print(f\"y shape: {y.shape}\")"
   ]
  },
  {
   "cell_type": "markdown",
   "id": "e1fba67d",
   "metadata": {},
   "source": [
    "At least two different classification methods covered in this course should be used. One of the following three methods must be used:\n",
    "- [] Support Vector Machine method\n",
    "- [] Artificial Neural Networks method\n",
    "- [x] Random Forest method."
   ]
  },
  {
   "cell_type": "markdown",
   "id": "cb612d2b",
   "metadata": {},
   "source": [
    "## Random Forest method"
   ]
  },
  {
   "cell_type": "code",
   "execution_count": 62,
   "id": "66b254ed",
   "metadata": {},
   "outputs": [],
   "source": [
    "X_train, X_test, y_train, y_test = train_test_split(X, y, test_size=TS, random_state=RS)\n",
    "\n",
    "# Change the y values to binary classification\n",
    "y_train = np.array([-1 if yt < 5.5 else 1 for yt in y_train])\n",
    "y_test = np.array([-1 if yt < 5.5 else 1 for yt in y_test])\n",
    "\n",
    "if DEBUG:\n",
    "    print(y_train.min())\n",
    "    print(y_train.max())\n",
    "    print(y_test.min())\n",
    "    print(y_test.max())"
   ]
  },
  {
   "cell_type": "code",
   "execution_count": 51,
   "id": "79e9e5b2",
   "metadata": {},
   "outputs": [
    {
     "output_type": "execute_result",
     "data": {
      "text/plain": [
       "GridSearchCV(cv=5,\n",
       "             estimator=RandomForestClassifier(criterion='entropy',\n",
       "                                              random_state=420),\n",
       "             param_grid={'max_depth': array([ 1, 11, 21, 31, 41, 51, 61, 71, 81, 91]),\n",
       "                         'n_estimators': array([  1,   6,  11,  16,  21,  26,  31,  36,  41,  46,  51,  56,  61,\n",
       "        66,  71,  76,  81,  86,  91,  96, 101, 106, 111, 116, 121, 126,\n",
       "       131, 136, 141, 146])})"
      ]
     },
     "metadata": {},
     "execution_count": 51
    }
   ],
   "source": [
    "# Train a hyperparameterized model\n",
    "param = {\"n_estimators\": np.arange(1, 150, 5), \"max_depth\": np.arange(1, 100, 10)}\n",
    "rf_grid = GridSearchCV(\n",
    "    RandomForestClassifier(\n",
    "        random_state=RS,\n",
    "        criterion=\"entropy\"),\n",
    "    param_grid=param, cv=5)\n",
    "rf_grid.fit(X_train, y_train)"
   ]
  },
  {
   "cell_type": "code",
   "execution_count": 55,
   "id": "b5097dd1",
   "metadata": {},
   "outputs": [
    {
     "output_type": "stream",
     "name": "stdout",
     "text": [
      "Best parameters set found on development set:\n{'max_depth': 31, 'n_estimators': 91}\n\nOptimal parameter scores:\nTraining score: 0.7506702412868632\nTesting score: 0.75625\n"
     ]
    }
   ],
   "source": [
    "print(\"Best parameters set found on development set:\")\n",
    "print(rf_grid.best_params_)\n",
    "print()\n",
    "\n",
    "# Training and Testing Accuracy\n",
    "print(\"Optimal parameter scores:\")\n",
    "print(f\"Training score: {rf_clf.score(X_train, y_train)}\")\n",
    "print(f\"Testing score: {rf_clf.score(X_test, y_test)}\")"
   ]
  },
  {
   "source": [
    "## Support Vector Machine Method"
   ],
   "cell_type": "markdown",
   "metadata": {}
  },
  {
   "cell_type": "code",
   "execution_count": null,
   "metadata": {},
   "outputs": [],
   "source": [
    "X_train, X_test, y_train, y_test = train_test_split(X, y, test_size=TS, random_state=RS)\n",
    "\n",
    "# Change the y values to binary classification\n",
    "y_train = np.array([-1 if yt < 5.5 else 1 for yt in y_train])\n",
    "y_test = np.array([-1 if yt < 5.5 else 1 for yt in y_test])\n",
    "\n",
    "if DEBUG:\n",
    "    print(y_train.min())\n",
    "    print(y_train.max())\n",
    "    print(y_test.min())\n",
    "    print(y_test.max())"
   ]
  },
  {
   "cell_type": "code",
   "execution_count": 57,
   "metadata": {},
   "outputs": [
    {
     "output_type": "error",
     "ename": "NameError",
     "evalue": "name 'svm' is not defined",
     "traceback": [
      "\u001b[0;31m---------------------------------------------------------------------------\u001b[0m",
      "\u001b[0;31mNameError\u001b[0m                                 Traceback (most recent call last)",
      "\u001b[0;32m<ipython-input-57-4e7c7b6f265b>\u001b[0m in \u001b[0;36m<module>\u001b[0;34m\u001b[0m\n\u001b[0;32m----> 1\u001b[0;31m \u001b[0msvm_clf\u001b[0m \u001b[0;34m=\u001b[0m \u001b[0msvm\u001b[0m\u001b[0;34m.\u001b[0m\u001b[0mSVC\u001b[0m\u001b[0;34m(\u001b[0m\u001b[0;34m)\u001b[0m\u001b[0;34m\u001b[0m\u001b[0;34m\u001b[0m\u001b[0m\n\u001b[0m",
      "\u001b[0;31mNameError\u001b[0m: name 'svm' is not defined"
     ]
    }
   ],
   "source": [
    "svm_clf = svm.SVC()\n",
    "svm_clf.fit(X_train, y_train)"
   ]
  },
  {
   "cell_type": "code",
   "execution_count": null,
   "metadata": {},
   "outputs": [],
   "source": []
  }
 ],
 "metadata": {
  "kernelspec": {
   "name": "python373jvsc74a57bd0e534e48711db4d1e1c48977d0d14ff85b1f16d41bcc4fdfd88268a329b3c9d66",
   "display_name": "Python 3.7.3 64-bit ('3.7')"
  },
  "language_info": {
   "codemirror_mode": {
    "name": "ipython",
    "version": 3
   },
   "file_extension": ".py",
   "mimetype": "text/x-python",
   "name": "python",
   "nbconvert_exporter": "python",
   "pygments_lexer": "ipython3",
   "version": "3.7.3"
  }
 },
 "nbformat": 4,
 "nbformat_minor": 5
}