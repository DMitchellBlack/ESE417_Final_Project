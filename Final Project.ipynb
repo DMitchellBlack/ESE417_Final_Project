{
 "cells": [
  {
   "cell_type": "code",
   "execution_count": 30,
   "id": "6454d259",
   "metadata": {},
   "outputs": [],
   "source": [
    "import matplotlib.pyplot as plt\n",
    "import numpy as np\n",
    "import pandas as pd\n",
    "from sklearn.model_selection import train_test_split\n",
    "from sklearn.ensemble import RandomForestClassifier\n",
    "from sklearn.preprocessing import LabelEncoder\n",
    "\n",
    "DEBUG=False\n",
    "TS=0.3  # Testing size\n",
    "RS=420  # Random State"
   ]
  },
  {
   "cell_type": "code",
   "execution_count": 31,
   "id": "88e6bd0e",
   "metadata": {},
   "outputs": [],
   "source": [
    "# Read the data\n",
    "data = pd.read_csv(\"winequality-red.csv\", sep=\";\")\n",
    "if DEBUG:\n",
    "    print(data.head())\n",
    "    print(data.describe())"
   ]
  },
  {
   "cell_type": "code",
   "execution_count": 32,
   "id": "d50d8e5e",
   "metadata": {},
   "outputs": [],
   "source": [
    "# Split the data\n",
    "np_data = data.to_numpy()\n",
    "X = np_data[:,:11]\n",
    "y = np_data[:,11]"
   ]
  },
  {
   "cell_type": "code",
   "execution_count": 33,
   "id": "303f3781",
   "metadata": {},
   "outputs": [],
   "source": [
    "if DEBUG:\n",
    "    print(f\"X shape: {X.shape}\")\n",
    "    print(f\"y shape: {y.shape}\")"
   ]
  },
  {
   "cell_type": "markdown",
   "id": "e1fba67d",
   "metadata": {},
   "source": [
    "At least two different classification methods covered in this course should be used. One of the following three methods must be used: Support Vector Machine method, Artificial Neural Networks method, Random Forest method."
   ]
  },
  {
   "cell_type": "markdown",
   "id": "cb612d2b",
   "metadata": {},
   "source": [
    "## Random Forest method"
   ]
  },
  {
   "cell_type": "code",
   "execution_count": 34,
   "id": "66b254ed",
   "metadata": {},
   "outputs": [],
   "source": [
    "X_train, X_test, y_train, y_test = train_test_split(X, y, test_size=TS, random_state=RS)\n",
    "\n",
    "# Change the y values to binary classification\n",
    "y_train = np.array([-1 if yt < 5.5 else 1 for yt in y_train])\n",
    "y_test = np.array([-1 if yt < 5.5 else 1 for yt in y_test])\n",
    "\n",
    "if DEBUG:\n",
    "    print(y_train.min())\n",
    "    print(y_train.max())\n",
    "    print(y_test.min())\n",
    "    print(y_test.max())"
   ]
  },
  {
   "cell_type": "code",
   "execution_count": 37,
   "id": "79e9e5b2",
   "metadata": {},
   "outputs": [
    {
     "output_type": "execute_result",
     "data": {
      "text/plain": [
       "RandomForestClassifier(max_depth=1, random_state=420)"
      ]
     },
     "metadata": {},
     "execution_count": 37
    }
   ],
   "source": [
    "# Train a hyperparameterized model\n",
    "rf_clf = RandomForestClassifier(max_depth=1, random_state=RS)\n",
    "rf_clf.fit(X_train, y_train)"
   ]
  },
  {
   "cell_type": "code",
   "execution_count": 38,
   "id": "b5097dd1",
   "metadata": {},
   "outputs": [
    {
     "output_type": "stream",
     "name": "stdout",
     "text": [
      "Training score: 0.7506702412868632\nTesting score: 0.75625\n"
     ]
    }
   ],
   "source": [
    "# Training and Testing Accuracy\n",
    "print(f\"Training score: {rf_clf.score(X_train, y_train)}\")\n",
    "print(f\"Testing score: {rf_clf.score(X_test, y_test)}\")"
   ]
  },
  {
   "cell_type": "code",
   "execution_count": null,
   "id": "e1cebfd1",
   "metadata": {},
   "outputs": [],
   "source": []
  }
 ],
 "metadata": {
  "kernelspec": {
   "name": "python373jvsc74a57bd0e534e48711db4d1e1c48977d0d14ff85b1f16d41bcc4fdfd88268a329b3c9d66",
   "display_name": "Python 3.7.3 64-bit ('3.7')"
  },
  "language_info": {
   "codemirror_mode": {
    "name": "ipython",
    "version": 3
   },
   "file_extension": ".py",
   "mimetype": "text/x-python",
   "name": "python",
   "nbconvert_exporter": "python",
   "pygments_lexer": "ipython3",
   "version": "3.7.3"
  }
 },
 "nbformat": 4,
 "nbformat_minor": 5
}