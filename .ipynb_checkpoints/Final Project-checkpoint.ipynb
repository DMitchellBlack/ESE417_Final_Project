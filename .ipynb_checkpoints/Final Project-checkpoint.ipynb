{
 "cells": [
  {
   "cell_type": "code",
   "execution_count": 34,
   "id": "6454d259",
   "metadata": {},
   "outputs": [],
   "source": [
    "import matplotlib.pyplot as plt\n",
    "import numpy as np\n",
    "import pandas as pd\n",
    "from sklearn.model_selection import train_test_split\n",
    "\n",
    "DEBUG=False\n",
    "TS=0.3  # Testing size\n",
    "RS=420  # Random State"
   ]
  },
  {
   "cell_type": "code",
   "execution_count": 35,
   "id": "88e6bd0e",
   "metadata": {},
   "outputs": [],
   "source": [
    "# Read the data\n",
    "data = pd.read_csv(\"winequality-red.csv\", sep=\";\")\n",
    "if DEBUG:\n",
    "    data.head()"
   ]
  },
  {
   "cell_type": "code",
   "execution_count": 36,
   "id": "0699e300",
   "metadata": {},
   "outputs": [],
   "source": [
    "# Split the data\n",
    "np_data = data.to_numpy()\n",
    "X = np_data[:,:11]\n",
    "y = np_data[:,11]\n",
    "X_train, X_test, y_train, y_test = train_test_split(X, y, test_size=0.3, random_state=RS)"
   ]
  },
  {
   "cell_type": "code",
   "execution_count": 37,
   "id": "fe271a76",
   "metadata": {},
   "outputs": [],
   "source": [
    "if DEBUG:\n",
    "    print(f\"X_train shape: {X_train.shape}\")\n",
    "    print(f\"y_train shape: {y_train.shape}\")"
   ]
  },
  {
   "cell_type": "markdown",
   "id": "5809df96",
   "metadata": {},
   "source": [
    "At least two different classification methods covered in this course should be used. One of the following three methods must be used: Support Vector Machine method, Artificial Neural Networks method, Random Forest method."
   ]
  },
  {
   "cell_type": "markdown",
   "id": "2cf918a6",
   "metadata": {},
   "source": [
    "## Random Forest method"
   ]
  },
  {
   "cell_type": "code",
   "execution_count": 38,
   "id": "2c5b86bd",
   "metadata": {},
   "outputs": [],
   "source": [
    "from sklearn.ensemble import RandomForestClassifier"
   ]
  },
  {
   "cell_type": "code",
   "execution_count": 41,
   "id": "a5ced9d2",
   "metadata": {},
   "outputs": [
    {
     "data": {
      "text/plain": [
       "RandomForestClassifier(max_depth=1, random_state=420)"
      ]
     },
     "execution_count": 41,
     "metadata": {},
     "output_type": "execute_result"
    }
   ],
   "source": [
    "# Train a model\n",
    "rf_clf = RandomForestClassifier(max_depth=1, random_state=RS)\n",
    "rf_clf.fit(X_train, y_train)"
   ]
  },
  {
   "cell_type": "code",
   "execution_count": 42,
   "id": "d81bd055",
   "metadata": {},
   "outputs": [
    {
     "name": "stdout",
     "output_type": "stream",
     "text": [
      "Training score: 0.5844504021447721\n",
      "Testing score: 0.5770833333333333\n"
     ]
    }
   ],
   "source": [
    "# Training and Testing Accuracy\n",
    "print(f\"Training score: {rf_clf.score(X_train, y_train)}\")\n",
    "print(f\"Testing score: {rf_clf.score(X_test, y_test)}\")"
   ]
  },
  {
   "cell_type": "code",
   "execution_count": null,
   "id": "e0990da5",
   "metadata": {},
   "outputs": [],
   "source": []
  }
 ],
 "metadata": {
  "kernelspec": {
   "display_name": "Python 3",
   "language": "python",
   "name": "python3"
  },
  "language_info": {
   "codemirror_mode": {
    "name": "ipython",
    "version": 3
   },
   "file_extension": ".py",
   "mimetype": "text/x-python",
   "name": "python",
   "nbconvert_exporter": "python",
   "pygments_lexer": "ipython3",
   "version": "3.7.3"
  }
 },
 "nbformat": 4,
 "nbformat_minor": 5
}
